{
 "cells": [
  {
   "cell_type": "markdown",
   "metadata": {},
   "source": [
    "## Social apps data\n",
    "\n",
    "1. Applications Data of category\n",
    "2. Review of these applications\n"
   ]
  },
  {
   "cell_type": "markdown",
   "metadata": {},
   "source": [
    "#### Install google-play-scraper"
   ]
  },
  {
   "cell_type": "code",
   "execution_count": 1,
   "metadata": {},
   "outputs": [
    {
     "name": "stdout",
     "output_type": "stream",
     "text": [
      "Collecting google-play-scraper\n",
      "  Using cached google_play_scraper-1.2.4-py3-none-any.whl (28 kB)\n",
      "Installing collected packages: google-play-scraper\n",
      "Successfully installed google-play-scraper-1.2.4\n"
     ]
    }
   ],
   "source": [
    "!pip install google-play-scraper"
   ]
  },
  {
   "cell_type": "markdown",
   "metadata": {},
   "source": [
    "#### Import Necessory Libraries"
   ]
  },
  {
   "cell_type": "code",
   "execution_count": 1,
   "metadata": {},
   "outputs": [],
   "source": [
    "import csv\n",
    "from google_play_scraper import app, search, Sort, reviews_all,reviews\n",
    "import pandas as pd"
   ]
  },
  {
   "cell_type": "markdown",
   "metadata": {},
   "source": [
    "    The given output will help you know the data that we can have using google-play-scraper library.\n",
    "    it retrieves data for one appliction in Social category and then returns the column name using .keys() function\n"
   ]
  },
  {
   "cell_type": "code",
   "execution_count": 2,
   "metadata": {},
   "outputs": [
    {
     "name": "stdout",
     "output_type": "stream",
     "text": [
      "dict_keys(['appId', 'icon', 'screenshots', 'title', 'score', 'genre', 'price', 'free', 'currency', 'video', 'videoImage', 'description', 'descriptionHTML', 'developer', 'installs'])\n"
     ]
    }
   ],
   "source": [
    "results = search(\"Social\", lang=\"en\", country=\"us\", n_hits=1)\n",
    "for app_info in results:\n",
    "    a = app_info\n",
    "    print(app_info.keys())\n"
   ]
  },
  {
   "cell_type": "markdown",
   "metadata": {},
   "source": [
    "#### Scrap Top Applications Data"
   ]
  },
  {
   "cell_type": "code",
   "execution_count": 3,
   "metadata": {
    "id": "kcJfbC8-moOg"
   },
   "outputs": [],
   "source": [
    "def Scrap_apps(category):\n",
    "    \n",
    "    results = search(category, lang=\"en\", country=\"us\")  # Adjust parameters as needed\n",
    "\n",
    "    # Sort the results by the number of downloads in descending order\n",
    "    results.sort(key=lambda x: int(x['installs'].replace(',', '').replace('+', '')), reverse=True)\n",
    "\n",
    "    # Select the top apps\n",
    "    results = results[:30]\n",
    "\n",
    "    # List to store app information\n",
    "    app_data = []\n",
    "\n",
    "    # Iterate through the search results and get detailed information for each app\n",
    "    for app_info in results:\n",
    "        app_id = app_info['appId']\n",
    "        \n",
    "        # Append app information to the list\n",
    "        app_data.append({\n",
    "             \"AppID\": app_id,\n",
    "        \"AppName\": app_info['title'],\n",
    "        \"developer_name\": app_info[\"developer\"],\n",
    "        \"genre\": app_info[\"genre\"],\n",
    "        \"Rating\": app_info['score'],\n",
    "        \"NumberOfDownloads\": app_info['installs'],\n",
    "        \"Price\": app_info.get('price', 'Free'),  # Assuming free if price is not available\n",
    "        \"Description\": app_info['description']\n",
    "\n",
    "        })\n",
    " \n",
    "    df = pd.DataFrame(app_data)                # Save the app data to a CSV file\n",
    "    df.to_csv(\"Apps_data.csv\")\n",
    "    return \"Apps_data.csv\""
   ]
  },
  {
   "cell_type": "markdown",
   "metadata": {},
   "source": [
    "#### Scrap Reviews of Applications"
   ]
  },
  {
   "cell_type": "code",
   "execution_count": 4,
   "metadata": {},
   "outputs": [],
   "source": [
    "def get_review_data(app_data):\n",
    "    \n",
    "    desired_keys = ['reviewId', 'userName', 'content', 'score',\"at\", \"reviewCreatedVersion\" ,\"appVersion\"]\n",
    "    col = ['Id', \"AppName\",'reviewId', 'userName', 'content', 'score',\"at\", \"reviewCreatedVersion\" ,\"appVersion\"]\n",
    "\n",
    "    with open(\"reviews.csv\", 'w',encoding='utf-8') as file:    # Open the file in write mode to clear its content\n",
    "        csv_writer = csv.DictWriter(file, fieldnames=col)\n",
    "        # Write the header row to the CSV file\n",
    "        csv_writer.writeheader()\n",
    "        pass\n",
    "    \n",
    "    with open(app_data, 'r',encoding='utf-8') as input_file: # Create CSV reader and writer objects\n",
    "        csv_reader = csv.reader(input_file)\n",
    "        header = next(csv_reader)\n",
    "        \n",
    "        # Process each row in the input CSV file\n",
    "        for row in csv_reader:\n",
    "            app_id = row[1]  # Assuming the app ID is in the first column\n",
    "            app_name=row[2]\n",
    "\n",
    "            # Fetch the reviews for the app\n",
    "            app_reviews, continuation_token = reviews(app_id, sort='newest')\n",
    "            \n",
    "            \n",
    "                  # Open the output CSV file\n",
    "            with open(\"reviews.csv\", 'a', newline='',encoding='utf-8') as output_file:\n",
    "\n",
    "                csv_writer = csv.DictWriter(output_file, fieldnames=col)\n",
    "\n",
    "                for review in app_reviews:\n",
    "                     # Extract the desired keys from the review\n",
    "                    review_data = {key: review[key] for key in desired_keys}\n",
    "\n",
    "                  # Write the review data to the CSV file\n",
    "                    csv_writer.writerow({**{'Id': app_id}, **{\"AppName\": app_name}, **review_data})\n",
    "                    \n",
    "    return \"reviews.csv\"\n"
   ]
  },
  {
   "cell_type": "code",
   "execution_count": 5,
   "metadata": {},
   "outputs": [],
   "source": [
    "def main(category_name):\n",
    "    \n",
    "    apps = Scrap_apps(category_name)\n",
    "    print(\"Applications data saved to Apps_data.csv.\")\n",
    "    \n",
    "    get_review_data(apps)\n",
    "    print(\"Reviews retrieval completed and saved to reviews.csv.\")\n"
   ]
  },
  {
   "cell_type": "code",
   "execution_count": 6,
   "metadata": {},
   "outputs": [
    {
     "name": "stdout",
     "output_type": "stream",
     "text": [
      "Applications data saved to Apps_data.csv.\n",
      "Reviews retrieval completed and saved to reviews.csv.\n"
     ]
    }
   ],
   "source": [
    "main(\"Social\")"
   ]
  },
  {
   "cell_type": "markdown",
   "metadata": {},
   "source": [
    "#### Read Apps data"
   ]
  },
  {
   "cell_type": "code",
   "execution_count": 10,
   "metadata": {
    "scrolled": true
   },
   "outputs": [
    {
     "data": {
      "text/html": [
       "<div>\n",
       "<style scoped>\n",
       "    .dataframe tbody tr th:only-of-type {\n",
       "        vertical-align: middle;\n",
       "    }\n",
       "\n",
       "    .dataframe tbody tr th {\n",
       "        vertical-align: top;\n",
       "    }\n",
       "\n",
       "    .dataframe thead th {\n",
       "        text-align: right;\n",
       "    }\n",
       "</style>\n",
       "<table border=\"1\" class=\"dataframe\">\n",
       "  <thead>\n",
       "    <tr style=\"text-align: right;\">\n",
       "      <th></th>\n",
       "      <th>Unnamed: 0</th>\n",
       "      <th>AppID</th>\n",
       "      <th>AppName</th>\n",
       "      <th>developer_name</th>\n",
       "      <th>genre</th>\n",
       "      <th>Rating</th>\n",
       "      <th>NumberOfDownloads</th>\n",
       "      <th>Price</th>\n",
       "      <th>Description</th>\n",
       "    </tr>\n",
       "  </thead>\n",
       "  <tbody>\n",
       "    <tr>\n",
       "      <th>0</th>\n",
       "      <td>0</td>\n",
       "      <td>com.instagram.android</td>\n",
       "      <td>Instagram</td>\n",
       "      <td>Instagram</td>\n",
       "      <td>Social</td>\n",
       "      <td>3.994574</td>\n",
       "      <td>5,000,000,000+</td>\n",
       "      <td>0</td>\n",
       "      <td>Little moments lead to big friendships. Share ...</td>\n",
       "    </tr>\n",
       "    <tr>\n",
       "      <th>1</th>\n",
       "      <td>1</td>\n",
       "      <td>com.facebook.katana</td>\n",
       "      <td>Facebook</td>\n",
       "      <td>Meta Platforms, Inc.</td>\n",
       "      <td>Social</td>\n",
       "      <td>3.510979</td>\n",
       "      <td>5,000,000,000+</td>\n",
       "      <td>0</td>\n",
       "      <td>Whether you’re looking for a spark of inspirat...</td>\n",
       "    </tr>\n",
       "    <tr>\n",
       "      <th>2</th>\n",
       "      <td>2</td>\n",
       "      <td>com.snapchat.android</td>\n",
       "      <td>Snapchat</td>\n",
       "      <td>Snap Inc</td>\n",
       "      <td>Communication</td>\n",
       "      <td>4.073215</td>\n",
       "      <td>1,000,000,000+</td>\n",
       "      <td>0</td>\n",
       "      <td>Snapchat is a fast and fun way to share the mo...</td>\n",
       "    </tr>\n",
       "    <tr>\n",
       "      <th>3</th>\n",
       "      <td>3</td>\n",
       "      <td>com.twitter.android</td>\n",
       "      <td>X</td>\n",
       "      <td>X Corp.</td>\n",
       "      <td>Social</td>\n",
       "      <td>3.826081</td>\n",
       "      <td>1,000,000,000+</td>\n",
       "      <td>0</td>\n",
       "      <td>The X app is the trusted global digital town s...</td>\n",
       "    </tr>\n",
       "    <tr>\n",
       "      <th>4</th>\n",
       "      <td>4</td>\n",
       "      <td>com.zhiliaoapp.musically</td>\n",
       "      <td>TikTok</td>\n",
       "      <td>TikTok Pte. Ltd.</td>\n",
       "      <td>Social</td>\n",
       "      <td>4.301296</td>\n",
       "      <td>1,000,000,000+</td>\n",
       "      <td>0</td>\n",
       "      <td>TikTok is THE destination for mobile videos. O...</td>\n",
       "    </tr>\n",
       "  </tbody>\n",
       "</table>\n",
       "</div>"
      ],
      "text/plain": [
       "   Unnamed: 0                     AppID    AppName        developer_name  \\\n",
       "0           0     com.instagram.android  Instagram             Instagram   \n",
       "1           1       com.facebook.katana   Facebook  Meta Platforms, Inc.   \n",
       "2           2      com.snapchat.android   Snapchat              Snap Inc   \n",
       "3           3       com.twitter.android          X               X Corp.   \n",
       "4           4  com.zhiliaoapp.musically     TikTok      TikTok Pte. Ltd.   \n",
       "\n",
       "           genre    Rating NumberOfDownloads  Price  \\\n",
       "0         Social  3.994574    5,000,000,000+      0   \n",
       "1         Social  3.510979    5,000,000,000+      0   \n",
       "2  Communication  4.073215    1,000,000,000+      0   \n",
       "3         Social  3.826081    1,000,000,000+      0   \n",
       "4         Social  4.301296    1,000,000,000+      0   \n",
       "\n",
       "                                         Description  \n",
       "0  Little moments lead to big friendships. Share ...  \n",
       "1  Whether you’re looking for a spark of inspirat...  \n",
       "2  Snapchat is a fast and fun way to share the mo...  \n",
       "3  The X app is the trusted global digital town s...  \n",
       "4  TikTok is THE destination for mobile videos. O...  "
      ]
     },
     "execution_count": 10,
     "metadata": {},
     "output_type": "execute_result"
    }
   ],
   "source": [
    "applications = pd.read_csv(\"Apps_data.csv\",index_col=None)\n",
    "applications.head()"
   ]
  },
  {
   "cell_type": "markdown",
   "metadata": {},
   "source": [
    "The given applications.shape()  returns the number of rows and column respectively. rows represents the application names while columns refer to details of each app."
   ]
  },
  {
   "cell_type": "code",
   "execution_count": 13,
   "metadata": {
    "scrolled": true
   },
   "outputs": [
    {
     "data": {
      "text/plain": [
       "(30, 9)"
      ]
     },
     "execution_count": 13,
     "metadata": {},
     "output_type": "execute_result"
    }
   ],
   "source": [
    "applications.shape"
   ]
  },
  {
   "cell_type": "markdown",
   "metadata": {},
   "source": [
    "#### Read Reviews data"
   ]
  },
  {
   "cell_type": "code",
   "execution_count": 14,
   "metadata": {},
   "outputs": [
    {
     "data": {
      "text/html": [
       "<div>\n",
       "<style scoped>\n",
       "    .dataframe tbody tr th:only-of-type {\n",
       "        vertical-align: middle;\n",
       "    }\n",
       "\n",
       "    .dataframe tbody tr th {\n",
       "        vertical-align: top;\n",
       "    }\n",
       "\n",
       "    .dataframe thead th {\n",
       "        text-align: right;\n",
       "    }\n",
       "</style>\n",
       "<table border=\"1\" class=\"dataframe\">\n",
       "  <thead>\n",
       "    <tr style=\"text-align: right;\">\n",
       "      <th></th>\n",
       "      <th>Id</th>\n",
       "      <th>AppName</th>\n",
       "      <th>reviewId</th>\n",
       "      <th>userName</th>\n",
       "      <th>content</th>\n",
       "      <th>score</th>\n",
       "      <th>at</th>\n",
       "      <th>reviewCreatedVersion</th>\n",
       "      <th>appVersion</th>\n",
       "    </tr>\n",
       "  </thead>\n",
       "  <tbody>\n",
       "    <tr>\n",
       "      <th>0</th>\n",
       "      <td>com.instagram.android</td>\n",
       "      <td>Instagram</td>\n",
       "      <td>f834843e-7efb-42d8-93ee-a2f1e25e4532</td>\n",
       "      <td>Alpen Wolfer</td>\n",
       "      <td>Overall a great app. I have some issues though...</td>\n",
       "      <td>4</td>\n",
       "      <td>2023-11-12 06:50:28</td>\n",
       "      <td>308.0.0.36.109</td>\n",
       "      <td>308.0.0.36.109</td>\n",
       "    </tr>\n",
       "    <tr>\n",
       "      <th>1</th>\n",
       "      <td>com.instagram.android</td>\n",
       "      <td>Instagram</td>\n",
       "      <td>9f6aaed1-07cc-4236-a155-ae7ef9f252e3</td>\n",
       "      <td>michael vargas`</td>\n",
       "      <td>Second time ! have to report the same problem....</td>\n",
       "      <td>1</td>\n",
       "      <td>2023-11-13 16:46:39</td>\n",
       "      <td>308.0.0.36.109</td>\n",
       "      <td>308.0.0.36.109</td>\n",
       "    </tr>\n",
       "    <tr>\n",
       "      <th>2</th>\n",
       "      <td>com.instagram.android</td>\n",
       "      <td>Instagram</td>\n",
       "      <td>563e37fb-e87b-417c-9e85-98802fe31301</td>\n",
       "      <td>Anthony Copter</td>\n",
       "      <td>User Un-Friendly and Frustrating Only allows p...</td>\n",
       "      <td>1</td>\n",
       "      <td>2023-11-14 16:51:28</td>\n",
       "      <td>308.0.0.36.109</td>\n",
       "      <td>308.0.0.36.109</td>\n",
       "    </tr>\n",
       "    <tr>\n",
       "      <th>3</th>\n",
       "      <td>com.instagram.android</td>\n",
       "      <td>Instagram</td>\n",
       "      <td>d745bc01-1d9f-44c0-bf9a-fe54ba4be988</td>\n",
       "      <td>S. Naalzheehii</td>\n",
       "      <td>Should not have updated this app, takes too lo...</td>\n",
       "      <td>1</td>\n",
       "      <td>2023-11-13 19:57:34</td>\n",
       "      <td>307.0.0.34.111</td>\n",
       "      <td>307.0.0.34.111</td>\n",
       "    </tr>\n",
       "    <tr>\n",
       "      <th>4</th>\n",
       "      <td>com.instagram.android</td>\n",
       "      <td>Instagram</td>\n",
       "      <td>d6043746-56a5-4a00-a6c6-3550d246602c</td>\n",
       "      <td>Caroline</td>\n",
       "      <td>Obviously a great platform but the updates and...</td>\n",
       "      <td>3</td>\n",
       "      <td>2023-11-14 17:18:12</td>\n",
       "      <td>308.0.0.36.109</td>\n",
       "      <td>308.0.0.36.109</td>\n",
       "    </tr>\n",
       "  </tbody>\n",
       "</table>\n",
       "</div>"
      ],
      "text/plain": [
       "                      Id    AppName                              reviewId  \\\n",
       "0  com.instagram.android  Instagram  f834843e-7efb-42d8-93ee-a2f1e25e4532   \n",
       "1  com.instagram.android  Instagram  9f6aaed1-07cc-4236-a155-ae7ef9f252e3   \n",
       "2  com.instagram.android  Instagram  563e37fb-e87b-417c-9e85-98802fe31301   \n",
       "3  com.instagram.android  Instagram  d745bc01-1d9f-44c0-bf9a-fe54ba4be988   \n",
       "4  com.instagram.android  Instagram  d6043746-56a5-4a00-a6c6-3550d246602c   \n",
       "\n",
       "          userName                                            content  score  \\\n",
       "0     Alpen Wolfer  Overall a great app. I have some issues though...      4   \n",
       "1  michael vargas`  Second time ! have to report the same problem....      1   \n",
       "2   Anthony Copter  User Un-Friendly and Frustrating Only allows p...      1   \n",
       "3   S. Naalzheehii  Should not have updated this app, takes too lo...      1   \n",
       "4         Caroline  Obviously a great platform but the updates and...      3   \n",
       "\n",
       "                    at reviewCreatedVersion      appVersion  \n",
       "0  2023-11-12 06:50:28       308.0.0.36.109  308.0.0.36.109  \n",
       "1  2023-11-13 16:46:39       308.0.0.36.109  308.0.0.36.109  \n",
       "2  2023-11-14 16:51:28       308.0.0.36.109  308.0.0.36.109  \n",
       "3  2023-11-13 19:57:34       307.0.0.34.111  307.0.0.34.111  \n",
       "4  2023-11-14 17:18:12       308.0.0.36.109  308.0.0.36.109  "
      ]
     },
     "execution_count": 14,
     "metadata": {},
     "output_type": "execute_result"
    }
   ],
   "source": [
    "reviews = pd.read_csv(\"reviews.csv\")\n",
    "reviews.head()"
   ]
  },
  {
   "cell_type": "code",
   "execution_count": 15,
   "metadata": {},
   "outputs": [
    {
     "data": {
      "text/plain": [
       "(3000, 9)"
      ]
     },
     "execution_count": 15,
     "metadata": {},
     "output_type": "execute_result"
    }
   ],
   "source": [
    "reviews.shape"
   ]
  },
  {
   "cell_type": "markdown",
   "metadata": {},
   "source": [
    "The given unique() returns the unique values."
   ]
  },
  {
   "cell_type": "code",
   "execution_count": 16,
   "metadata": {},
   "outputs": [
    {
     "data": {
      "text/plain": [
       "array(['Instagram', 'Facebook', 'Snapchat', 'X', 'TikTok',\n",
       "       'Facebook Lite', 'LinkedIn: Jobs & Business News', 'Pinterest',\n",
       "       'Likee - Short Video Community', 'Bigo Live - Live Streaming App',\n",
       "       'Reddit', 'VK: music, video, messenger',\n",
       "       'Twitch: Live Game Streaming', 'Tumblr—Fandom, Art, Chaos',\n",
       "       'ZEPETO: Avatar, Connect & Play', 'Tango- Live Stream, Video Chat',\n",
       "       'Threads, an Instagram app', 'OK: Social Network',\n",
       "       'ShareChat Trends Videos & Live', 'Litmatch—Make new friends',\n",
       "       'JAUMO Dating App: Chat & Date', 'Meetup: Social Events & Groups',\n",
       "       'BeReal. Your friends for real.', 'Yubo: Make new friends',\n",
       "       'Clubhouse', 'Weverse', 'Nextdoor: Neighborhood network',\n",
       "       'Plato - Games & Group Chats', 'IMVU: Social Chat & Avatar app',\n",
       "       'Truth Social'], dtype=object)"
      ]
     },
     "execution_count": 16,
     "metadata": {},
     "output_type": "execute_result"
    }
   ],
   "source": [
    "reviews['AppName'].unique()"
   ]
  },
  {
   "cell_type": "markdown",
   "metadata": {},
   "source": [
    "The .value_counts() returns the count of reviews scrapped for each application."
   ]
  },
  {
   "cell_type": "code",
   "execution_count": 18,
   "metadata": {},
   "outputs": [
    {
     "data": {
      "text/plain": [
       "AppName\n",
       "Instagram                         100\n",
       "Facebook                          100\n",
       "IMVU: Social Chat & Avatar app    100\n",
       "Plato - Games & Group Chats       100\n",
       "Nextdoor: Neighborhood network    100\n",
       "Weverse                           100\n",
       "Clubhouse                         100\n",
       "Yubo: Make new friends            100\n",
       "BeReal. Your friends for real.    100\n",
       "Meetup: Social Events & Groups    100\n",
       "JAUMO Dating App: Chat & Date     100\n",
       "Litmatch—Make new friends         100\n",
       "ShareChat Trends Videos & Live    100\n",
       "OK: Social Network                100\n",
       "Threads, an Instagram app         100\n",
       "Tango- Live Stream, Video Chat    100\n",
       "ZEPETO: Avatar, Connect & Play    100\n",
       "Tumblr—Fandom, Art, Chaos         100\n",
       "Twitch: Live Game Streaming       100\n",
       "VK: music, video, messenger       100\n",
       "Reddit                            100\n",
       "Bigo Live - Live Streaming App    100\n",
       "Likee - Short Video Community     100\n",
       "Pinterest                         100\n",
       "LinkedIn: Jobs & Business News    100\n",
       "Facebook Lite                     100\n",
       "TikTok                            100\n",
       "X                                 100\n",
       "Snapchat                          100\n",
       "Truth Social                      100\n",
       "Name: count, dtype: int64"
      ]
     },
     "execution_count": 18,
     "metadata": {},
     "output_type": "execute_result"
    }
   ],
   "source": [
    "reviews['AppName'].value_counts()"
   ]
  },
  {
   "cell_type": "code",
   "execution_count": null,
   "metadata": {},
   "outputs": [],
   "source": []
  }
 ],
 "metadata": {
  "accelerator": "GPU",
  "colab": {
   "gpuType": "T4",
   "provenance": []
  },
  "kernelspec": {
   "display_name": "Python 3 (ipykernel)",
   "language": "python",
   "name": "python3"
  },
  "language_info": {
   "codemirror_mode": {
    "name": "ipython",
    "version": 3
   },
   "file_extension": ".py",
   "mimetype": "text/x-python",
   "name": "python",
   "nbconvert_exporter": "python",
   "pygments_lexer": "ipython3",
   "version": "3.11.5"
  }
 },
 "nbformat": 4,
 "nbformat_minor": 1
}
